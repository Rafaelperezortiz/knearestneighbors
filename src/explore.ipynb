{
    "cells": [
        {
            "cell_type": "markdown",
            "metadata": {},
            "source": [
                "# PROYECTO KNEAREST NEIGBORS"
            ]
        },
        {
            "cell_type": "markdown",
            "metadata": {},
            "source": [
                "IMPORTS"
            ]
        },
        {
            "cell_type": "code",
            "execution_count": 2,
            "metadata": {},
            "outputs": [],
            "source": [
                "import pandas as pd\n",
                "import numpy as np\n",
                "from sklearn.model_selection import train_test_split, ParameterGrid\n",
                "from sklearn.feature_extraction.text import CountVectorizer, TfidfVectorizer\n",
                "from sklearn.neighbors import KNeighborsClassifier, KNeighborsRegressor, NearestNeighbors\n",
                "from sklearn.metrics import accuracy_score, confusion_matrix\n",
                "from sklearn.metrics.pairwise import cosine_similarity\n",
                "from pickle import dump\n",
                "import matplotlib.pyplot as plt\n",
                "import seaborn as sns\n",
                "import os\n",
                "from sqlalchemy import create_engine\n",
                "import pandas as pd\n",
                "import json\n",
                "import sqlite3"
            ]
        },
        {
            "cell_type": "code",
            "execution_count": 3,
            "metadata": {},
            "outputs": [],
            "source": [
                "url_movies = \"https://raw.githubusercontent.com/4GeeksAcademy/k-nearest-neighbors-project-tutorial/main/tmdb_5000_movies.csv\"\n",
                "url_credits = \"https://raw.githubusercontent.com/4GeeksAcademy/k-nearest-neighbors-project-tutorial/main/tmdb_5000_credits.csv\"\n",
                "\n",
                "# Lectura\n",
                "tmdb_5000_movies = pd.read_csv(url_movies)\n",
                "tmdb_5000_credits = pd.read_csv(url_credits)"
            ]
        },
        {
            "cell_type": "code",
            "execution_count": 5,
            "metadata": {},
            "outputs": [],
            "source": [
                "#Guardamos\n",
                "tmdb_5000_movies.to_csv(\"/workspaces/knearestneighbors/data/raw/tmdb_5000_movies.csv\", index= False)\n",
                "tmdb_5000_credits.to_csv(\"/workspaces/knearestneighbors/data/raw/tmdb_5000_credits.csv\", index= False)"
            ]
        },
        {
            "cell_type": "code",
            "execution_count": 6,
            "metadata": {},
            "outputs": [
                {
                    "data": {
                        "text/html": [
                            "<div>\n",
                            "<style scoped>\n",
                            "    .dataframe tbody tr th:only-of-type {\n",
                            "        vertical-align: middle;\n",
                            "    }\n",
                            "\n",
                            "    .dataframe tbody tr th {\n",
                            "        vertical-align: top;\n",
                            "    }\n",
                            "\n",
                            "    .dataframe thead th {\n",
                            "        text-align: right;\n",
                            "    }\n",
                            "</style>\n",
                            "<table border=\"1\" class=\"dataframe\">\n",
                            "  <thead>\n",
                            "    <tr style=\"text-align: right;\">\n",
                            "      <th></th>\n",
                            "      <th>budget</th>\n",
                            "      <th>genres</th>\n",
                            "      <th>homepage</th>\n",
                            "      <th>id</th>\n",
                            "      <th>keywords</th>\n",
                            "      <th>original_language</th>\n",
                            "      <th>original_title</th>\n",
                            "      <th>overview</th>\n",
                            "      <th>popularity</th>\n",
                            "      <th>production_companies</th>\n",
                            "      <th>production_countries</th>\n",
                            "      <th>release_date</th>\n",
                            "      <th>revenue</th>\n",
                            "      <th>runtime</th>\n",
                            "      <th>spoken_languages</th>\n",
                            "      <th>status</th>\n",
                            "      <th>tagline</th>\n",
                            "      <th>title</th>\n",
                            "      <th>vote_average</th>\n",
                            "      <th>vote_count</th>\n",
                            "    </tr>\n",
                            "  </thead>\n",
                            "  <tbody>\n",
                            "    <tr>\n",
                            "      <th>0</th>\n",
                            "      <td>237000000</td>\n",
                            "      <td>[{\"id\": 28, \"name\": \"Action\"}, {\"id\": 12, \"nam...</td>\n",
                            "      <td>http://www.avatarmovie.com/</td>\n",
                            "      <td>19995</td>\n",
                            "      <td>[{\"id\": 1463, \"name\": \"culture clash\"}, {\"id\":...</td>\n",
                            "      <td>en</td>\n",
                            "      <td>Avatar</td>\n",
                            "      <td>In the 22nd century, a paraplegic Marine is di...</td>\n",
                            "      <td>150.437577</td>\n",
                            "      <td>[{\"name\": \"Ingenious Film Partners\", \"id\": 289...</td>\n",
                            "      <td>[{\"iso_3166_1\": \"US\", \"name\": \"United States o...</td>\n",
                            "      <td>2009-12-10</td>\n",
                            "      <td>2787965087</td>\n",
                            "      <td>162.0</td>\n",
                            "      <td>[{\"iso_639_1\": \"en\", \"name\": \"English\"}, {\"iso...</td>\n",
                            "      <td>Released</td>\n",
                            "      <td>Enter the World of Pandora.</td>\n",
                            "      <td>Avatar</td>\n",
                            "      <td>7.2</td>\n",
                            "      <td>11800</td>\n",
                            "    </tr>\n",
                            "    <tr>\n",
                            "      <th>1</th>\n",
                            "      <td>300000000</td>\n",
                            "      <td>[{\"id\": 12, \"name\": \"Adventure\"}, {\"id\": 14, \"...</td>\n",
                            "      <td>http://disney.go.com/disneypictures/pirates/</td>\n",
                            "      <td>285</td>\n",
                            "      <td>[{\"id\": 270, \"name\": \"ocean\"}, {\"id\": 726, \"na...</td>\n",
                            "      <td>en</td>\n",
                            "      <td>Pirates of the Caribbean: At World's End</td>\n",
                            "      <td>Captain Barbossa, long believed to be dead, ha...</td>\n",
                            "      <td>139.082615</td>\n",
                            "      <td>[{\"name\": \"Walt Disney Pictures\", \"id\": 2}, {\"...</td>\n",
                            "      <td>[{\"iso_3166_1\": \"US\", \"name\": \"United States o...</td>\n",
                            "      <td>2007-05-19</td>\n",
                            "      <td>961000000</td>\n",
                            "      <td>169.0</td>\n",
                            "      <td>[{\"iso_639_1\": \"en\", \"name\": \"English\"}]</td>\n",
                            "      <td>Released</td>\n",
                            "      <td>At the end of the world, the adventure begins.</td>\n",
                            "      <td>Pirates of the Caribbean: At World's End</td>\n",
                            "      <td>6.9</td>\n",
                            "      <td>4500</td>\n",
                            "    </tr>\n",
                            "    <tr>\n",
                            "      <th>2</th>\n",
                            "      <td>245000000</td>\n",
                            "      <td>[{\"id\": 28, \"name\": \"Action\"}, {\"id\": 12, \"nam...</td>\n",
                            "      <td>http://www.sonypictures.com/movies/spectre/</td>\n",
                            "      <td>206647</td>\n",
                            "      <td>[{\"id\": 470, \"name\": \"spy\"}, {\"id\": 818, \"name...</td>\n",
                            "      <td>en</td>\n",
                            "      <td>Spectre</td>\n",
                            "      <td>A cryptic message from Bond’s past sends him o...</td>\n",
                            "      <td>107.376788</td>\n",
                            "      <td>[{\"name\": \"Columbia Pictures\", \"id\": 5}, {\"nam...</td>\n",
                            "      <td>[{\"iso_3166_1\": \"GB\", \"name\": \"United Kingdom\"...</td>\n",
                            "      <td>2015-10-26</td>\n",
                            "      <td>880674609</td>\n",
                            "      <td>148.0</td>\n",
                            "      <td>[{\"iso_639_1\": \"fr\", \"name\": \"Fran\\u00e7ais\"},...</td>\n",
                            "      <td>Released</td>\n",
                            "      <td>A Plan No One Escapes</td>\n",
                            "      <td>Spectre</td>\n",
                            "      <td>6.3</td>\n",
                            "      <td>4466</td>\n",
                            "    </tr>\n",
                            "    <tr>\n",
                            "      <th>3</th>\n",
                            "      <td>250000000</td>\n",
                            "      <td>[{\"id\": 28, \"name\": \"Action\"}, {\"id\": 80, \"nam...</td>\n",
                            "      <td>http://www.thedarkknightrises.com/</td>\n",
                            "      <td>49026</td>\n",
                            "      <td>[{\"id\": 849, \"name\": \"dc comics\"}, {\"id\": 853,...</td>\n",
                            "      <td>en</td>\n",
                            "      <td>The Dark Knight Rises</td>\n",
                            "      <td>Following the death of District Attorney Harve...</td>\n",
                            "      <td>112.312950</td>\n",
                            "      <td>[{\"name\": \"Legendary Pictures\", \"id\": 923}, {\"...</td>\n",
                            "      <td>[{\"iso_3166_1\": \"US\", \"name\": \"United States o...</td>\n",
                            "      <td>2012-07-16</td>\n",
                            "      <td>1084939099</td>\n",
                            "      <td>165.0</td>\n",
                            "      <td>[{\"iso_639_1\": \"en\", \"name\": \"English\"}]</td>\n",
                            "      <td>Released</td>\n",
                            "      <td>The Legend Ends</td>\n",
                            "      <td>The Dark Knight Rises</td>\n",
                            "      <td>7.6</td>\n",
                            "      <td>9106</td>\n",
                            "    </tr>\n",
                            "    <tr>\n",
                            "      <th>4</th>\n",
                            "      <td>260000000</td>\n",
                            "      <td>[{\"id\": 28, \"name\": \"Action\"}, {\"id\": 12, \"nam...</td>\n",
                            "      <td>http://movies.disney.com/john-carter</td>\n",
                            "      <td>49529</td>\n",
                            "      <td>[{\"id\": 818, \"name\": \"based on novel\"}, {\"id\":...</td>\n",
                            "      <td>en</td>\n",
                            "      <td>John Carter</td>\n",
                            "      <td>John Carter is a war-weary, former military ca...</td>\n",
                            "      <td>43.926995</td>\n",
                            "      <td>[{\"name\": \"Walt Disney Pictures\", \"id\": 2}]</td>\n",
                            "      <td>[{\"iso_3166_1\": \"US\", \"name\": \"United States o...</td>\n",
                            "      <td>2012-03-07</td>\n",
                            "      <td>284139100</td>\n",
                            "      <td>132.0</td>\n",
                            "      <td>[{\"iso_639_1\": \"en\", \"name\": \"English\"}]</td>\n",
                            "      <td>Released</td>\n",
                            "      <td>Lost in our world, found in another.</td>\n",
                            "      <td>John Carter</td>\n",
                            "      <td>6.1</td>\n",
                            "      <td>2124</td>\n",
                            "    </tr>\n",
                            "  </tbody>\n",
                            "</table>\n",
                            "</div>"
                        ],
                        "text/plain": [
                            "      budget                                             genres  \\\n",
                            "0  237000000  [{\"id\": 28, \"name\": \"Action\"}, {\"id\": 12, \"nam...   \n",
                            "1  300000000  [{\"id\": 12, \"name\": \"Adventure\"}, {\"id\": 14, \"...   \n",
                            "2  245000000  [{\"id\": 28, \"name\": \"Action\"}, {\"id\": 12, \"nam...   \n",
                            "3  250000000  [{\"id\": 28, \"name\": \"Action\"}, {\"id\": 80, \"nam...   \n",
                            "4  260000000  [{\"id\": 28, \"name\": \"Action\"}, {\"id\": 12, \"nam...   \n",
                            "\n",
                            "                                       homepage      id  \\\n",
                            "0                   http://www.avatarmovie.com/   19995   \n",
                            "1  http://disney.go.com/disneypictures/pirates/     285   \n",
                            "2   http://www.sonypictures.com/movies/spectre/  206647   \n",
                            "3            http://www.thedarkknightrises.com/   49026   \n",
                            "4          http://movies.disney.com/john-carter   49529   \n",
                            "\n",
                            "                                            keywords original_language  \\\n",
                            "0  [{\"id\": 1463, \"name\": \"culture clash\"}, {\"id\":...                en   \n",
                            "1  [{\"id\": 270, \"name\": \"ocean\"}, {\"id\": 726, \"na...                en   \n",
                            "2  [{\"id\": 470, \"name\": \"spy\"}, {\"id\": 818, \"name...                en   \n",
                            "3  [{\"id\": 849, \"name\": \"dc comics\"}, {\"id\": 853,...                en   \n",
                            "4  [{\"id\": 818, \"name\": \"based on novel\"}, {\"id\":...                en   \n",
                            "\n",
                            "                             original_title  \\\n",
                            "0                                    Avatar   \n",
                            "1  Pirates of the Caribbean: At World's End   \n",
                            "2                                   Spectre   \n",
                            "3                     The Dark Knight Rises   \n",
                            "4                               John Carter   \n",
                            "\n",
                            "                                            overview  popularity  \\\n",
                            "0  In the 22nd century, a paraplegic Marine is di...  150.437577   \n",
                            "1  Captain Barbossa, long believed to be dead, ha...  139.082615   \n",
                            "2  A cryptic message from Bond’s past sends him o...  107.376788   \n",
                            "3  Following the death of District Attorney Harve...  112.312950   \n",
                            "4  John Carter is a war-weary, former military ca...   43.926995   \n",
                            "\n",
                            "                                production_companies  \\\n",
                            "0  [{\"name\": \"Ingenious Film Partners\", \"id\": 289...   \n",
                            "1  [{\"name\": \"Walt Disney Pictures\", \"id\": 2}, {\"...   \n",
                            "2  [{\"name\": \"Columbia Pictures\", \"id\": 5}, {\"nam...   \n",
                            "3  [{\"name\": \"Legendary Pictures\", \"id\": 923}, {\"...   \n",
                            "4        [{\"name\": \"Walt Disney Pictures\", \"id\": 2}]   \n",
                            "\n",
                            "                                production_countries release_date     revenue  \\\n",
                            "0  [{\"iso_3166_1\": \"US\", \"name\": \"United States o...   2009-12-10  2787965087   \n",
                            "1  [{\"iso_3166_1\": \"US\", \"name\": \"United States o...   2007-05-19   961000000   \n",
                            "2  [{\"iso_3166_1\": \"GB\", \"name\": \"United Kingdom\"...   2015-10-26   880674609   \n",
                            "3  [{\"iso_3166_1\": \"US\", \"name\": \"United States o...   2012-07-16  1084939099   \n",
                            "4  [{\"iso_3166_1\": \"US\", \"name\": \"United States o...   2012-03-07   284139100   \n",
                            "\n",
                            "   runtime                                   spoken_languages    status  \\\n",
                            "0    162.0  [{\"iso_639_1\": \"en\", \"name\": \"English\"}, {\"iso...  Released   \n",
                            "1    169.0           [{\"iso_639_1\": \"en\", \"name\": \"English\"}]  Released   \n",
                            "2    148.0  [{\"iso_639_1\": \"fr\", \"name\": \"Fran\\u00e7ais\"},...  Released   \n",
                            "3    165.0           [{\"iso_639_1\": \"en\", \"name\": \"English\"}]  Released   \n",
                            "4    132.0           [{\"iso_639_1\": \"en\", \"name\": \"English\"}]  Released   \n",
                            "\n",
                            "                                          tagline  \\\n",
                            "0                     Enter the World of Pandora.   \n",
                            "1  At the end of the world, the adventure begins.   \n",
                            "2                           A Plan No One Escapes   \n",
                            "3                                 The Legend Ends   \n",
                            "4            Lost in our world, found in another.   \n",
                            "\n",
                            "                                      title  vote_average  vote_count  \n",
                            "0                                    Avatar           7.2       11800  \n",
                            "1  Pirates of the Caribbean: At World's End           6.9        4500  \n",
                            "2                                   Spectre           6.3        4466  \n",
                            "3                     The Dark Knight Rises           7.6        9106  \n",
                            "4                               John Carter           6.1        2124  "
                        ]
                    },
                    "execution_count": 6,
                    "metadata": {},
                    "output_type": "execute_result"
                }
            ],
            "source": [
                "tmdb_5000_movies.head()"
            ]
        },
        {
            "cell_type": "code",
            "execution_count": 7,
            "metadata": {},
            "outputs": [
                {
                    "data": {
                        "text/html": [
                            "<div>\n",
                            "<style scoped>\n",
                            "    .dataframe tbody tr th:only-of-type {\n",
                            "        vertical-align: middle;\n",
                            "    }\n",
                            "\n",
                            "    .dataframe tbody tr th {\n",
                            "        vertical-align: top;\n",
                            "    }\n",
                            "\n",
                            "    .dataframe thead th {\n",
                            "        text-align: right;\n",
                            "    }\n",
                            "</style>\n",
                            "<table border=\"1\" class=\"dataframe\">\n",
                            "  <thead>\n",
                            "    <tr style=\"text-align: right;\">\n",
                            "      <th></th>\n",
                            "      <th>movie_id</th>\n",
                            "      <th>title</th>\n",
                            "      <th>cast</th>\n",
                            "      <th>crew</th>\n",
                            "    </tr>\n",
                            "  </thead>\n",
                            "  <tbody>\n",
                            "    <tr>\n",
                            "      <th>0</th>\n",
                            "      <td>19995</td>\n",
                            "      <td>Avatar</td>\n",
                            "      <td>[{\"cast_id\": 242, \"character\": \"Jake Sully\", \"...</td>\n",
                            "      <td>[{\"credit_id\": \"52fe48009251416c750aca23\", \"de...</td>\n",
                            "    </tr>\n",
                            "    <tr>\n",
                            "      <th>1</th>\n",
                            "      <td>285</td>\n",
                            "      <td>Pirates of the Caribbean: At World's End</td>\n",
                            "      <td>[{\"cast_id\": 4, \"character\": \"Captain Jack Spa...</td>\n",
                            "      <td>[{\"credit_id\": \"52fe4232c3a36847f800b579\", \"de...</td>\n",
                            "    </tr>\n",
                            "    <tr>\n",
                            "      <th>2</th>\n",
                            "      <td>206647</td>\n",
                            "      <td>Spectre</td>\n",
                            "      <td>[{\"cast_id\": 1, \"character\": \"James Bond\", \"cr...</td>\n",
                            "      <td>[{\"credit_id\": \"54805967c3a36829b5002c41\", \"de...</td>\n",
                            "    </tr>\n",
                            "    <tr>\n",
                            "      <th>3</th>\n",
                            "      <td>49026</td>\n",
                            "      <td>The Dark Knight Rises</td>\n",
                            "      <td>[{\"cast_id\": 2, \"character\": \"Bruce Wayne / Ba...</td>\n",
                            "      <td>[{\"credit_id\": \"52fe4781c3a36847f81398c3\", \"de...</td>\n",
                            "    </tr>\n",
                            "    <tr>\n",
                            "      <th>4</th>\n",
                            "      <td>49529</td>\n",
                            "      <td>John Carter</td>\n",
                            "      <td>[{\"cast_id\": 5, \"character\": \"John Carter\", \"c...</td>\n",
                            "      <td>[{\"credit_id\": \"52fe479ac3a36847f813eaa3\", \"de...</td>\n",
                            "    </tr>\n",
                            "  </tbody>\n",
                            "</table>\n",
                            "</div>"
                        ],
                        "text/plain": [
                            "   movie_id                                     title  \\\n",
                            "0     19995                                    Avatar   \n",
                            "1       285  Pirates of the Caribbean: At World's End   \n",
                            "2    206647                                   Spectre   \n",
                            "3     49026                     The Dark Knight Rises   \n",
                            "4     49529                               John Carter   \n",
                            "\n",
                            "                                                cast  \\\n",
                            "0  [{\"cast_id\": 242, \"character\": \"Jake Sully\", \"...   \n",
                            "1  [{\"cast_id\": 4, \"character\": \"Captain Jack Spa...   \n",
                            "2  [{\"cast_id\": 1, \"character\": \"James Bond\", \"cr...   \n",
                            "3  [{\"cast_id\": 2, \"character\": \"Bruce Wayne / Ba...   \n",
                            "4  [{\"cast_id\": 5, \"character\": \"John Carter\", \"c...   \n",
                            "\n",
                            "                                                crew  \n",
                            "0  [{\"credit_id\": \"52fe48009251416c750aca23\", \"de...  \n",
                            "1  [{\"credit_id\": \"52fe4232c3a36847f800b579\", \"de...  \n",
                            "2  [{\"credit_id\": \"54805967c3a36829b5002c41\", \"de...  \n",
                            "3  [{\"credit_id\": \"52fe4781c3a36847f81398c3\", \"de...  \n",
                            "4  [{\"credit_id\": \"52fe479ac3a36847f813eaa3\", \"de...  "
                        ]
                    },
                    "execution_count": 7,
                    "metadata": {},
                    "output_type": "execute_result"
                }
            ],
            "source": [
                "tmdb_5000_credits.head()"
            ]
        },
        {
            "cell_type": "markdown",
            "metadata": {},
            "source": [
                "Creacion DATASET"
            ]
        },
        {
            "cell_type": "code",
            "execution_count": 8,
            "metadata": {},
            "outputs": [
                {
                    "data": {
                        "text/plain": [
                            "4803"
                        ]
                    },
                    "execution_count": 8,
                    "metadata": {},
                    "output_type": "execute_result"
                }
            ],
            "source": [
                "# Conectamos SQL\n",
                "con = sqlite3.connect(\"movies.db\")\n",
                "cur = con.cursor()\n",
                "\n",
                "# Creamos tablas\n",
                "tmdb_5000_movies.to_sql('movies', con, if_exists='replace', index=False)\n",
                "tmdb_5000_credits.to_sql('credits', con, if_exists='replace', index=False)"
            ]
        },
        {
            "cell_type": "code",
            "execution_count": 9,
            "metadata": {},
            "outputs": [],
            "source": [
                "# Creamos una query\n",
                "query = pd.read_sql_query('''\n",
                "        SELECT *\n",
                "        FROM movies\n",
                "        JOIN credits ON movies.title = credits.title\n",
                "        ''', con)\n",
                "\n",
                "# Cerramos conexion SQL\n",
                "con.close()"
            ]
        },
        {
            "cell_type": "code",
            "execution_count": 14,
            "metadata": {},
            "outputs": [],
            "source": [
                "# Seleccionamos las PREDICTORAS\n",
                "\n",
                "total_data = query[[\"movie_id\", \"title\", \"overview\", \"genres\", \"keywords\", \"cast\", \"crew\"]]"
            ]
        },
        {
            "cell_type": "code",
            "execution_count": 16,
            "metadata": {},
            "outputs": [
                {
                    "name": "stdout",
                    "output_type": "stream",
                    "text": [
                        "<class 'pandas.core.frame.DataFrame'>\n",
                        "RangeIndex: 4809 entries, 0 to 4808\n",
                        "Data columns (total 8 columns):\n",
                        " #   Column    Non-Null Count  Dtype \n",
                        "---  ------    --------------  ----- \n",
                        " 0   movie_id  4809 non-null   int64 \n",
                        " 1   title     4809 non-null   object\n",
                        " 2   title     4809 non-null   object\n",
                        " 3   overview  4806 non-null   object\n",
                        " 4   genres    4809 non-null   object\n",
                        " 5   keywords  4809 non-null   object\n",
                        " 6   cast      4809 non-null   object\n",
                        " 7   crew      4809 non-null   object\n",
                        "dtypes: int64(1), object(7)\n",
                        "memory usage: 300.7+ KB\n"
                    ]
                }
            ],
            "source": [
                "total_data.info()"
            ]
        },
        {
            "cell_type": "code",
            "execution_count": 18,
            "metadata": {},
            "outputs": [],
            "source": [
                "#eliminamos columnas duplicadas (title)\n",
                "total_data = total_data.T.drop_duplicates().T"
            ]
        },
        {
            "cell_type": "code",
            "execution_count": 19,
            "metadata": {},
            "outputs": [
                {
                    "data": {
                        "text/html": [
                            "<div>\n",
                            "<style scoped>\n",
                            "    .dataframe tbody tr th:only-of-type {\n",
                            "        vertical-align: middle;\n",
                            "    }\n",
                            "\n",
                            "    .dataframe tbody tr th {\n",
                            "        vertical-align: top;\n",
                            "    }\n",
                            "\n",
                            "    .dataframe thead th {\n",
                            "        text-align: right;\n",
                            "    }\n",
                            "</style>\n",
                            "<table border=\"1\" class=\"dataframe\">\n",
                            "  <thead>\n",
                            "    <tr style=\"text-align: right;\">\n",
                            "      <th></th>\n",
                            "      <th>movie_id</th>\n",
                            "      <th>title</th>\n",
                            "      <th>overview</th>\n",
                            "      <th>genres</th>\n",
                            "      <th>keywords</th>\n",
                            "      <th>cast</th>\n",
                            "      <th>crew</th>\n",
                            "    </tr>\n",
                            "  </thead>\n",
                            "  <tbody>\n",
                            "    <tr>\n",
                            "      <th>0</th>\n",
                            "      <td>19995</td>\n",
                            "      <td>Avatar</td>\n",
                            "      <td>In the 22nd century, a paraplegic Marine is di...</td>\n",
                            "      <td>[{\"id\": 28, \"name\": \"Action\"}, {\"id\": 12, \"nam...</td>\n",
                            "      <td>[{\"id\": 1463, \"name\": \"culture clash\"}, {\"id\":...</td>\n",
                            "      <td>[{\"cast_id\": 242, \"character\": \"Jake Sully\", \"...</td>\n",
                            "      <td>[{\"credit_id\": \"52fe48009251416c750aca23\", \"de...</td>\n",
                            "    </tr>\n",
                            "    <tr>\n",
                            "      <th>1</th>\n",
                            "      <td>285</td>\n",
                            "      <td>Pirates of the Caribbean: At World's End</td>\n",
                            "      <td>Captain Barbossa, long believed to be dead, ha...</td>\n",
                            "      <td>[{\"id\": 12, \"name\": \"Adventure\"}, {\"id\": 14, \"...</td>\n",
                            "      <td>[{\"id\": 270, \"name\": \"ocean\"}, {\"id\": 726, \"na...</td>\n",
                            "      <td>[{\"cast_id\": 4, \"character\": \"Captain Jack Spa...</td>\n",
                            "      <td>[{\"credit_id\": \"52fe4232c3a36847f800b579\", \"de...</td>\n",
                            "    </tr>\n",
                            "    <tr>\n",
                            "      <th>2</th>\n",
                            "      <td>206647</td>\n",
                            "      <td>Spectre</td>\n",
                            "      <td>A cryptic message from Bond’s past sends him o...</td>\n",
                            "      <td>[{\"id\": 28, \"name\": \"Action\"}, {\"id\": 12, \"nam...</td>\n",
                            "      <td>[{\"id\": 470, \"name\": \"spy\"}, {\"id\": 818, \"name...</td>\n",
                            "      <td>[{\"cast_id\": 1, \"character\": \"James Bond\", \"cr...</td>\n",
                            "      <td>[{\"credit_id\": \"54805967c3a36829b5002c41\", \"de...</td>\n",
                            "    </tr>\n",
                            "    <tr>\n",
                            "      <th>3</th>\n",
                            "      <td>49026</td>\n",
                            "      <td>The Dark Knight Rises</td>\n",
                            "      <td>Following the death of District Attorney Harve...</td>\n",
                            "      <td>[{\"id\": 28, \"name\": \"Action\"}, {\"id\": 80, \"nam...</td>\n",
                            "      <td>[{\"id\": 849, \"name\": \"dc comics\"}, {\"id\": 853,...</td>\n",
                            "      <td>[{\"cast_id\": 2, \"character\": \"Bruce Wayne / Ba...</td>\n",
                            "      <td>[{\"credit_id\": \"52fe4781c3a36847f81398c3\", \"de...</td>\n",
                            "    </tr>\n",
                            "    <tr>\n",
                            "      <th>4</th>\n",
                            "      <td>49529</td>\n",
                            "      <td>John Carter</td>\n",
                            "      <td>John Carter is a war-weary, former military ca...</td>\n",
                            "      <td>[{\"id\": 28, \"name\": \"Action\"}, {\"id\": 12, \"nam...</td>\n",
                            "      <td>[{\"id\": 818, \"name\": \"based on novel\"}, {\"id\":...</td>\n",
                            "      <td>[{\"cast_id\": 5, \"character\": \"John Carter\", \"c...</td>\n",
                            "      <td>[{\"credit_id\": \"52fe479ac3a36847f813eaa3\", \"de...</td>\n",
                            "    </tr>\n",
                            "  </tbody>\n",
                            "</table>\n",
                            "</div>"
                        ],
                        "text/plain": [
                            "  movie_id                                     title  \\\n",
                            "0    19995                                    Avatar   \n",
                            "1      285  Pirates of the Caribbean: At World's End   \n",
                            "2   206647                                   Spectre   \n",
                            "3    49026                     The Dark Knight Rises   \n",
                            "4    49529                               John Carter   \n",
                            "\n",
                            "                                            overview  \\\n",
                            "0  In the 22nd century, a paraplegic Marine is di...   \n",
                            "1  Captain Barbossa, long believed to be dead, ha...   \n",
                            "2  A cryptic message from Bond’s past sends him o...   \n",
                            "3  Following the death of District Attorney Harve...   \n",
                            "4  John Carter is a war-weary, former military ca...   \n",
                            "\n",
                            "                                              genres  \\\n",
                            "0  [{\"id\": 28, \"name\": \"Action\"}, {\"id\": 12, \"nam...   \n",
                            "1  [{\"id\": 12, \"name\": \"Adventure\"}, {\"id\": 14, \"...   \n",
                            "2  [{\"id\": 28, \"name\": \"Action\"}, {\"id\": 12, \"nam...   \n",
                            "3  [{\"id\": 28, \"name\": \"Action\"}, {\"id\": 80, \"nam...   \n",
                            "4  [{\"id\": 28, \"name\": \"Action\"}, {\"id\": 12, \"nam...   \n",
                            "\n",
                            "                                            keywords  \\\n",
                            "0  [{\"id\": 1463, \"name\": \"culture clash\"}, {\"id\":...   \n",
                            "1  [{\"id\": 270, \"name\": \"ocean\"}, {\"id\": 726, \"na...   \n",
                            "2  [{\"id\": 470, \"name\": \"spy\"}, {\"id\": 818, \"name...   \n",
                            "3  [{\"id\": 849, \"name\": \"dc comics\"}, {\"id\": 853,...   \n",
                            "4  [{\"id\": 818, \"name\": \"based on novel\"}, {\"id\":...   \n",
                            "\n",
                            "                                                cast  \\\n",
                            "0  [{\"cast_id\": 242, \"character\": \"Jake Sully\", \"...   \n",
                            "1  [{\"cast_id\": 4, \"character\": \"Captain Jack Spa...   \n",
                            "2  [{\"cast_id\": 1, \"character\": \"James Bond\", \"cr...   \n",
                            "3  [{\"cast_id\": 2, \"character\": \"Bruce Wayne / Ba...   \n",
                            "4  [{\"cast_id\": 5, \"character\": \"John Carter\", \"c...   \n",
                            "\n",
                            "                                                crew  \n",
                            "0  [{\"credit_id\": \"52fe48009251416c750aca23\", \"de...  \n",
                            "1  [{\"credit_id\": \"52fe4232c3a36847f800b579\", \"de...  \n",
                            "2  [{\"credit_id\": \"54805967c3a36829b5002c41\", \"de...  \n",
                            "3  [{\"credit_id\": \"52fe4781c3a36847f81398c3\", \"de...  \n",
                            "4  [{\"credit_id\": \"52fe479ac3a36847f813eaa3\", \"de...  "
                        ]
                    },
                    "execution_count": 19,
                    "metadata": {},
                    "output_type": "execute_result"
                }
            ],
            "source": [
                "total_data.head()"
            ]
        },
        {
            "cell_type": "code",
            "execution_count": 20,
            "metadata": {},
            "outputs": [],
            "source": [
                "# Función para obtener un valor de un JSON\n",
                "def json_value(json_str, default_value = None):\n",
                "    try:\n",
                "        return json.loads(json_str) \n",
                "    except json.JSONDecodeError:\n",
                "        return None"
            ]
        },
        {
            "cell_type": "code",
            "execution_count": 21,
            "metadata": {},
            "outputs": [],
            "source": [
                "# Obtener nombres de \"genre\"\n",
                "total_data[\"genres\"] = total_data[\"genres\"].apply(lambda x: [item[\"name\"] for item in json.loads(x)] if pd.notna(x) else None)\n",
                "\n",
                "# Obtener nombres de \"keywords\"\n",
                "total_data[\"keywords\"] = total_data[\"keywords\"].apply(lambda x: [item[\"name\"] for item in json.loads(x)] if pd.notna(x) else None)\n",
                "\n",
                "# Obtener nombres de \"cast\"\n",
                "total_data[\"cast\"] = total_data[\"cast\"].apply(lambda x: [item[\"name\"] for item in json.loads(x)[:3]] if pd.notna(x) else None)\n",
                "\n",
                "# Obtener nombres de \"crew\"\n",
                "total_data[\"crew\"] = total_data[\"crew\"].apply(lambda x: [item[\"name\"] for item in json_value(x) if item[\"job\"] == \"Director\"] if pd.notna(x) else None)\n",
                "\n",
                "# Convertir descripción general en una lista\n",
                "total_data[\"overview\"] = total_data[\"overview\"].apply(lambda x: [x])"
            ]
        },
        {
            "cell_type": "code",
            "execution_count": 22,
            "metadata": {},
            "outputs": [
                {
                    "data": {
                        "text/html": [
                            "<div>\n",
                            "<style scoped>\n",
                            "    .dataframe tbody tr th:only-of-type {\n",
                            "        vertical-align: middle;\n",
                            "    }\n",
                            "\n",
                            "    .dataframe tbody tr th {\n",
                            "        vertical-align: top;\n",
                            "    }\n",
                            "\n",
                            "    .dataframe thead th {\n",
                            "        text-align: right;\n",
                            "    }\n",
                            "</style>\n",
                            "<table border=\"1\" class=\"dataframe\">\n",
                            "  <thead>\n",
                            "    <tr style=\"text-align: right;\">\n",
                            "      <th></th>\n",
                            "      <th>movie_id</th>\n",
                            "      <th>title</th>\n",
                            "      <th>overview</th>\n",
                            "      <th>genres</th>\n",
                            "      <th>keywords</th>\n",
                            "      <th>cast</th>\n",
                            "      <th>crew</th>\n",
                            "    </tr>\n",
                            "  </thead>\n",
                            "  <tbody>\n",
                            "    <tr>\n",
                            "      <th>0</th>\n",
                            "      <td>19995</td>\n",
                            "      <td>Avatar</td>\n",
                            "      <td>[In the 22nd century, a paraplegic Marine is d...</td>\n",
                            "      <td>[Action, Adventure, Fantasy, Science Fiction]</td>\n",
                            "      <td>[culture clash, future, space war, space colon...</td>\n",
                            "      <td>[Sam Worthington, Zoe Saldana, Sigourney Weaver]</td>\n",
                            "      <td>[James Cameron]</td>\n",
                            "    </tr>\n",
                            "    <tr>\n",
                            "      <th>1</th>\n",
                            "      <td>285</td>\n",
                            "      <td>Pirates of the Caribbean: At World's End</td>\n",
                            "      <td>[Captain Barbossa, long believed to be dead, h...</td>\n",
                            "      <td>[Adventure, Fantasy, Action]</td>\n",
                            "      <td>[ocean, drug abuse, exotic island, east india ...</td>\n",
                            "      <td>[Johnny Depp, Orlando Bloom, Keira Knightley]</td>\n",
                            "      <td>[Gore Verbinski]</td>\n",
                            "    </tr>\n",
                            "    <tr>\n",
                            "      <th>2</th>\n",
                            "      <td>206647</td>\n",
                            "      <td>Spectre</td>\n",
                            "      <td>[A cryptic message from Bond’s past sends him ...</td>\n",
                            "      <td>[Action, Adventure, Crime]</td>\n",
                            "      <td>[spy, based on novel, secret agent, sequel, mi...</td>\n",
                            "      <td>[Daniel Craig, Christoph Waltz, Léa Seydoux]</td>\n",
                            "      <td>[Sam Mendes]</td>\n",
                            "    </tr>\n",
                            "    <tr>\n",
                            "      <th>3</th>\n",
                            "      <td>49026</td>\n",
                            "      <td>The Dark Knight Rises</td>\n",
                            "      <td>[Following the death of District Attorney Harv...</td>\n",
                            "      <td>[Action, Crime, Drama, Thriller]</td>\n",
                            "      <td>[dc comics, crime fighter, terrorist, secret i...</td>\n",
                            "      <td>[Christian Bale, Michael Caine, Gary Oldman]</td>\n",
                            "      <td>[Christopher Nolan]</td>\n",
                            "    </tr>\n",
                            "    <tr>\n",
                            "      <th>4</th>\n",
                            "      <td>49529</td>\n",
                            "      <td>John Carter</td>\n",
                            "      <td>[John Carter is a war-weary, former military c...</td>\n",
                            "      <td>[Action, Adventure, Science Fiction]</td>\n",
                            "      <td>[based on novel, mars, medallion, space travel...</td>\n",
                            "      <td>[Taylor Kitsch, Lynn Collins, Samantha Morton]</td>\n",
                            "      <td>[Andrew Stanton]</td>\n",
                            "    </tr>\n",
                            "  </tbody>\n",
                            "</table>\n",
                            "</div>"
                        ],
                        "text/plain": [
                            "  movie_id                                     title  \\\n",
                            "0    19995                                    Avatar   \n",
                            "1      285  Pirates of the Caribbean: At World's End   \n",
                            "2   206647                                   Spectre   \n",
                            "3    49026                     The Dark Knight Rises   \n",
                            "4    49529                               John Carter   \n",
                            "\n",
                            "                                            overview  \\\n",
                            "0  [In the 22nd century, a paraplegic Marine is d...   \n",
                            "1  [Captain Barbossa, long believed to be dead, h...   \n",
                            "2  [A cryptic message from Bond’s past sends him ...   \n",
                            "3  [Following the death of District Attorney Harv...   \n",
                            "4  [John Carter is a war-weary, former military c...   \n",
                            "\n",
                            "                                          genres  \\\n",
                            "0  [Action, Adventure, Fantasy, Science Fiction]   \n",
                            "1                   [Adventure, Fantasy, Action]   \n",
                            "2                     [Action, Adventure, Crime]   \n",
                            "3               [Action, Crime, Drama, Thriller]   \n",
                            "4           [Action, Adventure, Science Fiction]   \n",
                            "\n",
                            "                                            keywords  \\\n",
                            "0  [culture clash, future, space war, space colon...   \n",
                            "1  [ocean, drug abuse, exotic island, east india ...   \n",
                            "2  [spy, based on novel, secret agent, sequel, mi...   \n",
                            "3  [dc comics, crime fighter, terrorist, secret i...   \n",
                            "4  [based on novel, mars, medallion, space travel...   \n",
                            "\n",
                            "                                               cast                 crew  \n",
                            "0  [Sam Worthington, Zoe Saldana, Sigourney Weaver]      [James Cameron]  \n",
                            "1     [Johnny Depp, Orlando Bloom, Keira Knightley]     [Gore Verbinski]  \n",
                            "2      [Daniel Craig, Christoph Waltz, Léa Seydoux]         [Sam Mendes]  \n",
                            "3      [Christian Bale, Michael Caine, Gary Oldman]  [Christopher Nolan]  \n",
                            "4    [Taylor Kitsch, Lynn Collins, Samantha Morton]     [Andrew Stanton]  "
                        ]
                    },
                    "execution_count": 22,
                    "metadata": {},
                    "output_type": "execute_result"
                }
            ],
            "source": [
                "total_data.head()"
            ]
        },
        {
            "cell_type": "code",
            "execution_count": 25,
            "metadata": {},
            "outputs": [],
            "source": [
                "#Eliminamos los espacios\n",
                "remove_spaces = lambda items: [item.replace(\" \", \"\") for item in items] if isinstance(items, list) else items"
            ]
        },
        {
            "cell_type": "code",
            "execution_count": 26,
            "metadata": {},
            "outputs": [],
            "source": [
                "#Eliminamos espacios de las colunmnas\n",
                "total_data[\"genres\"] = total_data[\"genres\"].apply(remove_spaces)\n",
                "total_data[\"cast\"] = total_data[\"cast\"].apply(remove_spaces)\n",
                "total_data[\"crew\"] = total_data[\"crew\"].apply(remove_spaces)\n",
                "total_data[\"keywords\"] = total_data[\"keywords\"].apply(remove_spaces)"
            ]
        },
        {
            "cell_type": "code",
            "execution_count": 27,
            "metadata": {},
            "outputs": [],
            "source": [
                "#Columnas de lista concatenadas\n",
                "total_data[\"tags\"] = total_data[\"overview\"] + total_data[\"genres\"] + total_data[\"keywords\"] + total_data[\"cast\"] + total_data[\"crew\"] "
            ]
        },
        {
            "cell_type": "code",
            "execution_count": 29,
            "metadata": {},
            "outputs": [],
            "source": [
                "#Función para concatenar elementos de cadena\n",
                "def concatenate_list(lists):\n",
                "    cleaned_list = [x for x in lists if isinstance(x, str) and x is not None]\n",
                "    return ' '.join(cleaned_list)"
            ]
        },
        {
            "cell_type": "code",
            "execution_count": 30,
            "metadata": {},
            "outputs": [],
            "source": [
                "total_data[\"tags\"] = total_data[\"tags\"].apply(concatenate_list)"
            ]
        },
        {
            "cell_type": "code",
            "execution_count": 33,
            "metadata": {},
            "outputs": [
                {
                    "data": {
                        "text/plain": [
                            "\"Captain Jack Sparrow crosses paths with a woman from his past, and he's not sure if it's love -- or if she's a ruthless con artist who's using him to find the fabled Fountain of Youth. When she forces him aboard the Queen Anne's Revenge, the ship of the formidable pirate Blackbeard, Jack finds himself on an unexpected adventure in which he doesn't know who to fear more: Blackbeard or the woman from his past. Adventure Action Fantasy sea captain mutiny sword primeminister sailing silver ship duke mermaid pirate soldier battle swashbuckler aftercreditsstinger 3d JohnnyDepp PenélopeCruz IanMcShane RobMarshall\""
                        ]
                    },
                    "execution_count": 33,
                    "metadata": {},
                    "output_type": "execute_result"
                }
            ],
            "source": [
                "total_data[\"tags\"][17]"
            ]
        },
        {
            "cell_type": "code",
            "execution_count": 34,
            "metadata": {},
            "outputs": [],
            "source": [
                "#Columna de tags vectorizados\n",
                "vectorizer = TfidfVectorizer()\n",
                "\n",
                "vectors_movies = vectorizer.fit_transform(total_data[\"tags\"])"
            ]
        },
        {
            "cell_type": "markdown",
            "metadata": {},
            "source": [
                "## K-NEAREST NEIGHBORS"
            ]
        },
        {
            "cell_type": "code",
            "execution_count": 36,
            "metadata": {},
            "outputs": [],
            "source": [
                "model = NearestNeighbors(n_neighbors=6, algorithm=\"brute\", metric=\"cosine\")\n",
                "model.fit(vectors_movies)\n",
                "\n",
                "# Guardamos\n",
                "dump(model, open(\"/workspaces/knearestneighbors/models/knn_model.pk\", \"wb\"))"
            ]
        },
        {
            "cell_type": "code",
            "execution_count": 50,
            "metadata": {},
            "outputs": [],
            "source": [
                "#Función para obtener una lista de películas desde el modelo k-nearest neighbors\n",
                "def movie_recommend(movie):\n",
                "    movie_index = total_data[total_data[\"title\"] == movie].index\n",
                "    if not movie_index.empty:\n",
                "        movie_index = movie_index[0]\n",
                "        distances, indices = model.kneighbors(vectors_movies[movie_index])\n",
                "        movie_list = [(total_data[\"title\"][i], distances[0][j]) for j, i in enumerate(indices[0])]\n",
                "        return movie_list[1:]\n",
                "    else:\n",
                "        print(f\"Lo siento, la pelicula '{movie}' no se encuentra en el DataSet\")\n",
                "        return None"
            ]
        },
        {
            "cell_type": "code",
            "execution_count": 38,
            "metadata": {},
            "outputs": [],
            "source": [
                "# Función para imprimir una lista formateada de títulos de películas recomendadas\n",
                "def print_recommended_list(_):\n",
                "    if _:\n",
                "        for movie, distance in _:\n",
                "            print(f\"- film: {movie}\")"
            ]
        },
        {
            "cell_type": "code",
            "execution_count": 46,
            "metadata": {},
            "outputs": [
                {
                    "name": "stdout",
                    "output_type": "stream",
                    "text": [
                        "- film: Harry Potter and the Order of the Phoenix\n",
                        "- film: Harry Potter and the Goblet of Fire\n",
                        "- film: Harry Potter and the Chamber of Secrets\n",
                        "- film: Harry Potter and the Prisoner of Azkaban\n",
                        "- film: Harry Potter and the Philosopher's Stone\n"
                    ]
                }
            ],
            "source": [
                "recommended_movies = movie_recommend(\"Harry Potter and the Half-Blood Prince\")\n",
                "\n",
                "print_recommended_list(recommended_movies)"
            ]
        },
        {
            "cell_type": "code",
            "execution_count": 48,
            "metadata": {},
            "outputs": [
                {
                    "name": "stdout",
                    "output_type": "stream",
                    "text": [
                        "- film: We Were Soldiers\n",
                        "- film: The Christmas Candle\n",
                        "- film: The Hunger Games: Mockingjay - Part 1\n",
                        "- film: Henry V\n",
                        "- film: The Patriot\n"
                    ]
                }
            ],
            "source": [
                "recommended_movies = movie_recommend(\"Braveheart\")\n",
                "\n",
                "print_recommended_list(recommended_movies)"
            ]
        },
        {
            "cell_type": "code",
            "execution_count": 51,
            "metadata": {},
            "outputs": [
                {
                    "name": "stdout",
                    "output_type": "stream",
                    "text": [
                        "Lo siento, la pelicula 'Torrente' no se encuentra en el DataSet\n"
                    ]
                }
            ],
            "source": [
                "recommended_movies = movie_recommend(\"Torrente\")\n",
                "\n",
                "print_recommended_list(recommended_movies)"
            ]
        }
    ],
    "metadata": {
        "kernelspec": {
            "display_name": "Python 3.8.13 64-bit ('3.8.13')",
            "language": "python",
            "name": "python3"
        },
        "language_info": {
            "codemirror_mode": {
                "name": "ipython",
                "version": 3
            },
            "file_extension": ".py",
            "mimetype": "text/x-python",
            "name": "python",
            "nbconvert_exporter": "python",
            "pygments_lexer": "ipython3",
            "version": "3.11.4"
        },
        "orig_nbformat": 4,
        "vscode": {
            "interpreter": {
                "hash": "110cc1dee26208153f2972f08a2ad52b6a56238dc66d48e87fb757ef2996db56"
            }
        }
    },
    "nbformat": 4,
    "nbformat_minor": 2
}
